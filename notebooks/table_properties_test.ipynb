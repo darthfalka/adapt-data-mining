{
 "cells": [
  {
   "cell_type": "code",
   "execution_count": 1,
   "id": "e62e8d2c-9061-42e8-b7e1-4728b103605f",
   "metadata": {
    "tags": []
   },
   "outputs": [
    {
     "name": "stderr",
     "output_type": "stream",
     "text": [
      "/opt/homebrew/anaconda3/lib/python3.11/site-packages/pandas/core/arrays/masked.py:60: UserWarning: Pandas requires version '1.3.6' or newer of 'bottleneck' (version '1.3.5' currently installed).\n",
      "  from pandas.core import (\n"
     ]
    }
   ],
   "source": [
    "import pandas as pd\n",
    "import numpy as np\n",
    "import json\n",
    "from typing import List, Optional"
   ]
  },
  {
   "cell_type": "code",
   "execution_count": 19,
   "id": "c1a7a23b-aed7-4b30-84a7-cc7c9491e52e",
   "metadata": {
    "tags": []
   },
   "outputs": [],
   "source": [
    "class Table:\n",
    "    def __init__(self, code: str, name: str, paths: List[str], level1_name: str, level1: List[str], aggregates: List[str]):\n",
    "        self.code = code\n",
    "        self.name = name\n",
    "        self.paths = paths\n",
    "        self.level1_name = level1_name\n",
    "        self.level1 = level1\n",
    "        self.aggregates = aggregates\n",
    "        self.df = pd.read_csv(paths[0])\n",
    "        if len(paths) > 1:\n",
    "            for p in paths[1:]:\n",
    "                self.df = pd.merge(self.df, pd.read_csv(p), on='SED_CODE_2021')\n",
    "    \n",
    "    def summary_stats(self) -> pd.DataFrame:\n",
    "        # Calculate percentage of each category relative to the aggregate column\n",
    "        for col in self.level1:\n",
    "            self.df[f\"{col}_by_{self.aggregates[0]}\"] = self.df[col] / self.df[self.aggregates[0]] * 100\n",
    "        return self.df\n",
    "\n",
    "    def correlation(self, table: 'Table') -> float:\n",
    "        # Merge and calculate correlation matrix of combined data\n",
    "        merged_df = pd.merge(self.summary_stats(), table.summary_stats(), on='SED_CODE_2021')[self.level1 + table.level1]\n",
    "        corr = merged_df.corr()\n",
    "        off_diagonal = corr.values[~np.eye(corr.shape[0], dtype=bool)]\n",
    "        table_corr = np.mean(np.abs(off_diagonal))\n",
    "        return table_corr\n",
    "    \n",
    "    def melt(self) -> pd.DataFrame:\n",
    "        # Melt the DataFrame to convert from wide to long format\n",
    "        value_vars = self.level1\n",
    "        melted_df = pd.melt(self.df, id_vars=['SED_CODE_2021'], value_vars=value_vars, var_name='l1_category', value_name='population')\n",
    "        \n",
    "        return melted_df\n",
    "    \n",
    "    def to_json(self) -> str:\n",
    "        melted_df = self.melt().to_json(orient='records', indent=4)\n",
    "        \n",
    "        final_json = {\n",
    "            \"code\": self.code,\n",
    "            \"name\": self.name,\n",
    "            \"level1_name\": self.level1_name,\n",
    "            \"level1\": self.level1,\n",
    "            \"data_level1\": melted_df\n",
    "        }\n",
    "        \n",
    "        return json.dumps(final_json, indent=4)\n",
    "    \n",
    "    def __str__(self) -> str:\n",
    "        s = f\"Table {self.code}: {self.name}\"\n",
    "        return s\n"
   ]
  },
  {
   "cell_type": "code",
   "execution_count": 3,
   "id": "6e8d5a10-dc5d-43ef-83e6-e0054a4295ec",
   "metadata": {
    "tags": []
   },
   "outputs": [],
   "source": [
    "g04_level1_name = 'Age (45+ yr old)'\n",
    "g04_level1 = ['Age_yr_45_49_P', 'Age_yr_50_54_P', 'Age_yr_55_59_P', 'Age_yr_60_64_P', 'Age_yr_65_69_P', 'Age_yr_70_74_P', 'Age_yr_75_79_P',\n",
    "               'Age_yr_80_84_P', 'Age_yr_85_89_P', 'Age_yr_90_94_P', 'Age_yr_95_99_P', 'Age_yr_100_yr_over_P']\n",
    "g04_aggregates = ['Tot_P']\n",
    "\n",
    "g04 = Table(code='g04',\n",
    "            name='Age by sex',\n",
    "            paths=['../data/2021 Census GCP State Electroral Division for NSW/2021Census_G04A_NSW_SED.csv',\n",
    "                   '../data/2021 Census GCP State Electroral Division for NSW/2021Census_G04B_NSW_SED.csv'],\n",
    "            level1_name=g04_level1_name,\n",
    "            level1=g04_level1,\n",
    "            aggregates=g04_aggregates)"
   ]
  },
  {
   "cell_type": "code",
   "execution_count": 4,
   "id": "3a93c318-3f06-4134-95d6-5233dd82b85b",
   "metadata": {
    "tags": []
   },
   "outputs": [],
   "source": [
    "g17_level1_name = 'Weekly personal income'\n",
    "g17_level1 = ['P_Neg_Nil_income_Tot', 'P_1_149_Tot', 'P_150_299_Tot', 'P_300_399_Tot', 'P_400_499_Tot',\n",
    "              'P_500_649_Tot', 'P_650_799_Tot', 'P_800_999_Tot', 'P_1000_1249_Tot', 'P_1250_1499_Tot',\n",
    "              'P_1500_1749_Tot', 'P_1750_1999_Tot', 'P_2000_2999_Tot', 'P_3000_3499_Tot', 'P_3500_more_Tot']\n",
    "g17_aggregates = ['P_Tot_Tot'] \n",
    "\n",
    "g17 = Table(code='g17',\n",
    "            name='Total personal income (weekly) by age by sex',\n",
    "            paths=['../data/2021 Census GCP State Electroral Division for NSW/2021Census_G17A_NSW_SED.csv', \n",
    "                   '../data/2021 Census GCP State Electroral Division for NSW/2021Census_G17B_NSW_SED.csv',\n",
    "                   '../data/2021 Census GCP State Electroral Division for NSW/2021Census_G17C_NSW_SED.csv'],\n",
    "            level1_name=g17_level1_name,\n",
    "            level1=g17_level1, \n",
    "\n",
    "            aggregates=g17_aggregates)"
   ]
  },
  {
   "cell_type": "code",
   "execution_count": 11,
   "id": "62875eb9-5249-40f4-9389-594a54478392",
   "metadata": {
    "tags": []
   },
   "outputs": [],
   "source": [
    "g18_level1_name = 'Need for assistance'\n",
    "g18_level1 = ['P_Tot_Need_for_assistance', 'P_Tot_No_need_for_assistance']\n",
    "g18_aggregates = ['P_Tot_Tot']\n",
    "\n",
    "g18 = Table(code='g18',\n",
    "            name='Core activity need for assistance by age by sex',\n",
    "            paths=['../data/2021 Census GCP State Electroral Division for NSW/2021Census_G18_NSW_SED.csv'], \n",
    "            level1_name=g18_level1_name, \n",
    "            level1=g18_level1, \n",
    "            aggregates=g18_aggregates)"
   ]
  },
  {
   "cell_type": "code",
   "execution_count": 12,
   "id": "d78aa3a5-0f55-493d-9a9f-b909cf0635c7",
   "metadata": {
    "tags": []
   },
   "outputs": [],
   "source": [
    "g19_level1_name = 'Long-term health condition'\n",
    "g19_level1 = ['P_Asthma_Tot', 'P_Cancer_Tot', 'P_Dementia_Tot', 'P_Diabetes_Tot', 'P_Heart_disease_Tot', \n",
    "              'P_Kidney_disease_Tot', 'P_Lung_cond_Tot', 'P_Mental_health_cond_Tot', 'P_Stroke_Tot',\n",
    "              'P_Other_Tot', 'P_None_Tot']\n",
    "g19_aggregates = ['P_Tot_Tot']\n",
    "\n",
    "g19 = Table(code='g19',\n",
    "            name='Type of long-term health condition by age by sex',\n",
    "            paths=['../data/2021 Census GCP State Electroral Division for NSW/2021Census_G19A_NSW_SED.csv', \n",
    "                   '../data/2021 Census GCP State Electroral Division for NSW/2021Census_G19B_NSW_SED.csv',\n",
    "                   '../data/2021 Census GCP State Electroral Division for NSW/2021Census_G19C_NSW_SED.csv'],\n",
    "            level1_name=g19_level1_name, \n",
    "            level1=g19_level1, \n",
    "            aggregates=g19_aggregates)"
   ]
  },
  {
   "cell_type": "code",
   "execution_count": 13,
   "id": "c1b46245-7ade-4c1e-828e-b06817599faa",
   "metadata": {
    "tags": []
   },
   "outputs": [],
   "source": [
    "g33_level1_name = 'Weekly household income'\n",
    "g33_level1 = ['Negative_Nil_income_Tot', 'HI_1_149_Tot', 'HI_150_299_Tot', 'HI_300_399_Tot', 'HI_400_499_Tot', 'HI_500_649_Tot', 'HI_650_799_Tot', 'HI_800_999_Tot',\n",
    "              'HI_1000_1249_Tot', 'HI_1250_1499_Tot', 'HI_1500_1749_Tot', 'HI_1750_1999_Tot', 'HI_2000_2499_Tot', 'HI_2500_2999_Tot', 'HI_3000_3499_Tot', 'HI_3500_3999_Tot',\n",
    "              'HI_4000_more_Tot']\n",
    "g33_aggregates = ['Tot_Tot']\n",
    "\n",
    "g33 = Table(code='g33',\n",
    "            name='Total household income (weekly) by household composition',\n",
    "            paths=['../data/2021 Census GCP State Electroral Division for NSW/2021Census_G33_NSW_SED.csv'], \n",
    "            level1_name=g33_level1_name,\n",
    "            level1=g33_level1, \n",
    "            aggregates=g33_aggregates)"
   ]
  },
  {
   "cell_type": "code",
   "execution_count": 14,
   "id": "2a0c459c-7b20-4001-aded-0119e5d5554f",
   "metadata": {
    "tags": []
   },
   "outputs": [],
   "source": [
    "g54_level1_name = 'Industry of employment'\n",
    "g54_level1 = ['P_Ag_For_Fshg_Tot', 'P_Mining_Tot', 'P_Manufact_Tot', 'P_El_Gas_Wt_Waste_Tot', 'P_Constru_Tot', 'P_WhlesaleTde_Tot', 'P_RetTde_Tot',\n",
    "              'P_Accom_food_Tot', 'P_Trans_post_wrehsg_Tot', 'P_Info_media_teleco_Tot', 'P_Fin_Insur_Tot', 'P_RtnHir_REst_Tot', 'P_Pro_scien_tec_Tot',\n",
    "              'P_Admin_supp_Tot', 'P_Public_admin_sfty_Tot', 'P_Educ_trng_Tot', 'P_HlthCare_SocAs_Tot', 'P_Art_recn_Tot', 'P_Oth_scs_Tot']\n",
    "g54_aggregates = ['P_Tot_Tot']\n",
    "g54 = Table(code='g54',\n",
    "            name='Industry of employment by age by sex',\n",
    "            paths=['../data/2021 Census GCP State Electroral Division for NSW/2021Census_G54A_NSW_SED.csv', \n",
    "                   '../data/2021 Census GCP State Electroral Division for NSW/2021Census_G54B_NSW_SED.csv',\n",
    "                   '../data/2021 Census GCP State Electroral Division for NSW/2021Census_G54C_NSW_SED.csv',\n",
    "                  '../data/2021 Census GCP State Electroral Division for NSW/2021Census_G54D_NSW_SED.csv'],\n",
    "            level1_name=g54_level1_name,\n",
    "            level1=g54_level1, \n",
    "            aggregates=g54_aggregates)"
   ]
  },
  {
   "cell_type": "code",
   "execution_count": 15,
   "id": "24b1efe0-a2f9-452a-994a-b9e8f2f4ebde",
   "metadata": {
    "tags": []
   },
   "outputs": [],
   "source": [
    "all_tables = [g04, g17, g18, g19, g33, g54]"
   ]
  },
  {
   "cell_type": "code",
   "execution_count": 16,
   "id": "630e950b-6613-4a57-9063-d671a6c7febb",
   "metadata": {
    "tags": []
   },
   "outputs": [],
   "source": [
    "import pickle\n",
    "pickle.dump(all_tables, open('../data/table_objects.p', 'wb'))"
   ]
  },
  {
   "cell_type": "code",
   "execution_count": 17,
   "id": "239b2114-4c9a-46d1-8b61-f7fac65b3cf6",
   "metadata": {
    "tags": []
   },
   "outputs": [
    {
     "name": "stdout",
     "output_type": "stream",
     "text": [
      "Table g04: Age by sex\n"
     ]
    }
   ],
   "source": [
    "def query_first_match(tables, attribute, value):    \n",
    "    for table in tables:\n",
    "        if getattr(table, attribute, None) == value:\n",
    "            return table\n",
    "\n",
    "# Example use\n",
    "print(query_first_match(all_tables, \"code\", 'g04'))"
   ]
  },
  {
   "cell_type": "code",
   "execution_count": 18,
   "id": "4ee28b51-5e9a-4751-a2e7-bd5fbc5da842",
   "metadata": {
    "tags": []
   },
   "outputs": [
    {
     "name": "stdout",
     "output_type": "stream",
     "text": [
      "Total household income (weekly) by household composition (table code: g33) has the following correlations\n",
      "\n",
      "g04: 0.43\n",
      "g17: 0.49\n",
      "g18: 0.51\n",
      "g19: 0.49\n",
      "g54: 0.38\n"
     ]
    }
   ],
   "source": [
    "# Correlate with the rest\n",
    "table1 = g33\n",
    "correlations = {}\n",
    "\n",
    "for table2 in all_tables:\n",
    "    if table2.code != table1.code:\n",
    "        c = table1.correlation(table2)\n",
    "        correlations[table2.code] = c\n",
    "\n",
    "print(f\"{table1.name} (table code: {table1.code}) has the following correlations\\n\")\n",
    "for k in correlations.keys():\n",
    "    print(f\"{k}: {correlations[k]:.2f}\")"
   ]
  },
  {
   "cell_type": "code",
   "execution_count": 22,
   "id": "8d0174ad-54ed-488a-a624-cb53edf99f6e",
   "metadata": {
    "tags": []
   },
   "outputs": [],
   "source": [
    "import pandas as pd"
   ]
  },
  {
   "cell_type": "code",
   "execution_count": 20,
   "id": "29091342-17f5-4831-ae96-ae8ac5f26703",
   "metadata": {},
   "outputs": [
    {
     "ename": "FileNotFoundError",
     "evalue": "[Errno 2] No such file or directory: 'data/2021 Census GCP State Electroral Division for NSW/Metadata/2021_GCP_Sequential_Template_R2.xlsx'",
     "output_type": "error",
     "traceback": [
      "\u001b[0;31m---------------------------------------------------------------------------\u001b[0m",
      "\u001b[0;31mFileNotFoundError\u001b[0m                         Traceback (most recent call last)",
      "Cell \u001b[0;32mIn[20], line 1\u001b[0m\n\u001b[0;32m----> 1\u001b[0m df \u001b[38;5;241m=\u001b[39m pd\u001b[38;5;241m.\u001b[39mread_excel(\u001b[38;5;124m\"\u001b[39m\u001b[38;5;124mdata/2021 Census GCP State Electroral Division for NSW/Metadata/2021_GCP_Sequential_Template_R2.xlsx\u001b[39m\u001b[38;5;124m\"\u001b[39m)\n",
      "File \u001b[0;32m/opt/homebrew/anaconda3/lib/python3.11/site-packages/pandas/io/excel/_base.py:495\u001b[0m, in \u001b[0;36mread_excel\u001b[0;34m(io, sheet_name, header, names, index_col, usecols, dtype, engine, converters, true_values, false_values, skiprows, nrows, na_values, keep_default_na, na_filter, verbose, parse_dates, date_parser, date_format, thousands, decimal, comment, skipfooter, storage_options, dtype_backend, engine_kwargs)\u001b[0m\n\u001b[1;32m    493\u001b[0m \u001b[38;5;28;01mif\u001b[39;00m \u001b[38;5;129;01mnot\u001b[39;00m \u001b[38;5;28misinstance\u001b[39m(io, ExcelFile):\n\u001b[1;32m    494\u001b[0m     should_close \u001b[38;5;241m=\u001b[39m \u001b[38;5;28;01mTrue\u001b[39;00m\n\u001b[0;32m--> 495\u001b[0m     io \u001b[38;5;241m=\u001b[39m ExcelFile(\n\u001b[1;32m    496\u001b[0m         io,\n\u001b[1;32m    497\u001b[0m         storage_options\u001b[38;5;241m=\u001b[39mstorage_options,\n\u001b[1;32m    498\u001b[0m         engine\u001b[38;5;241m=\u001b[39mengine,\n\u001b[1;32m    499\u001b[0m         engine_kwargs\u001b[38;5;241m=\u001b[39mengine_kwargs,\n\u001b[1;32m    500\u001b[0m     )\n\u001b[1;32m    501\u001b[0m \u001b[38;5;28;01melif\u001b[39;00m engine \u001b[38;5;129;01mand\u001b[39;00m engine \u001b[38;5;241m!=\u001b[39m io\u001b[38;5;241m.\u001b[39mengine:\n\u001b[1;32m    502\u001b[0m     \u001b[38;5;28;01mraise\u001b[39;00m \u001b[38;5;167;01mValueError\u001b[39;00m(\n\u001b[1;32m    503\u001b[0m         \u001b[38;5;124m\"\u001b[39m\u001b[38;5;124mEngine should not be specified when passing \u001b[39m\u001b[38;5;124m\"\u001b[39m\n\u001b[1;32m    504\u001b[0m         \u001b[38;5;124m\"\u001b[39m\u001b[38;5;124man ExcelFile - ExcelFile already has the engine set\u001b[39m\u001b[38;5;124m\"\u001b[39m\n\u001b[1;32m    505\u001b[0m     )\n",
      "File \u001b[0;32m/opt/homebrew/anaconda3/lib/python3.11/site-packages/pandas/io/excel/_base.py:1550\u001b[0m, in \u001b[0;36mExcelFile.__init__\u001b[0;34m(self, path_or_buffer, engine, storage_options, engine_kwargs)\u001b[0m\n\u001b[1;32m   1548\u001b[0m     ext \u001b[38;5;241m=\u001b[39m \u001b[38;5;124m\"\u001b[39m\u001b[38;5;124mxls\u001b[39m\u001b[38;5;124m\"\u001b[39m\n\u001b[1;32m   1549\u001b[0m \u001b[38;5;28;01melse\u001b[39;00m:\n\u001b[0;32m-> 1550\u001b[0m     ext \u001b[38;5;241m=\u001b[39m inspect_excel_format(\n\u001b[1;32m   1551\u001b[0m         content_or_path\u001b[38;5;241m=\u001b[39mpath_or_buffer, storage_options\u001b[38;5;241m=\u001b[39mstorage_options\n\u001b[1;32m   1552\u001b[0m     )\n\u001b[1;32m   1553\u001b[0m     \u001b[38;5;28;01mif\u001b[39;00m ext \u001b[38;5;129;01mis\u001b[39;00m \u001b[38;5;28;01mNone\u001b[39;00m:\n\u001b[1;32m   1554\u001b[0m         \u001b[38;5;28;01mraise\u001b[39;00m \u001b[38;5;167;01mValueError\u001b[39;00m(\n\u001b[1;32m   1555\u001b[0m             \u001b[38;5;124m\"\u001b[39m\u001b[38;5;124mExcel file format cannot be determined, you must specify \u001b[39m\u001b[38;5;124m\"\u001b[39m\n\u001b[1;32m   1556\u001b[0m             \u001b[38;5;124m\"\u001b[39m\u001b[38;5;124man engine manually.\u001b[39m\u001b[38;5;124m\"\u001b[39m\n\u001b[1;32m   1557\u001b[0m         )\n",
      "File \u001b[0;32m/opt/homebrew/anaconda3/lib/python3.11/site-packages/pandas/io/excel/_base.py:1402\u001b[0m, in \u001b[0;36minspect_excel_format\u001b[0;34m(content_or_path, storage_options)\u001b[0m\n\u001b[1;32m   1399\u001b[0m \u001b[38;5;28;01mif\u001b[39;00m \u001b[38;5;28misinstance\u001b[39m(content_or_path, \u001b[38;5;28mbytes\u001b[39m):\n\u001b[1;32m   1400\u001b[0m     content_or_path \u001b[38;5;241m=\u001b[39m BytesIO(content_or_path)\n\u001b[0;32m-> 1402\u001b[0m \u001b[38;5;28;01mwith\u001b[39;00m get_handle(\n\u001b[1;32m   1403\u001b[0m     content_or_path, \u001b[38;5;124m\"\u001b[39m\u001b[38;5;124mrb\u001b[39m\u001b[38;5;124m\"\u001b[39m, storage_options\u001b[38;5;241m=\u001b[39mstorage_options, is_text\u001b[38;5;241m=\u001b[39m\u001b[38;5;28;01mFalse\u001b[39;00m\n\u001b[1;32m   1404\u001b[0m ) \u001b[38;5;28;01mas\u001b[39;00m handle:\n\u001b[1;32m   1405\u001b[0m     stream \u001b[38;5;241m=\u001b[39m handle\u001b[38;5;241m.\u001b[39mhandle\n\u001b[1;32m   1406\u001b[0m     stream\u001b[38;5;241m.\u001b[39mseek(\u001b[38;5;241m0\u001b[39m)\n",
      "File \u001b[0;32m/opt/homebrew/anaconda3/lib/python3.11/site-packages/pandas/io/common.py:882\u001b[0m, in \u001b[0;36mget_handle\u001b[0;34m(path_or_buf, mode, encoding, compression, memory_map, is_text, errors, storage_options)\u001b[0m\n\u001b[1;32m    873\u001b[0m         handle \u001b[38;5;241m=\u001b[39m \u001b[38;5;28mopen\u001b[39m(\n\u001b[1;32m    874\u001b[0m             handle,\n\u001b[1;32m    875\u001b[0m             ioargs\u001b[38;5;241m.\u001b[39mmode,\n\u001b[0;32m   (...)\u001b[0m\n\u001b[1;32m    878\u001b[0m             newline\u001b[38;5;241m=\u001b[39m\u001b[38;5;124m\"\u001b[39m\u001b[38;5;124m\"\u001b[39m,\n\u001b[1;32m    879\u001b[0m         )\n\u001b[1;32m    880\u001b[0m     \u001b[38;5;28;01melse\u001b[39;00m:\n\u001b[1;32m    881\u001b[0m         \u001b[38;5;66;03m# Binary mode\u001b[39;00m\n\u001b[0;32m--> 882\u001b[0m         handle \u001b[38;5;241m=\u001b[39m \u001b[38;5;28mopen\u001b[39m(handle, ioargs\u001b[38;5;241m.\u001b[39mmode)\n\u001b[1;32m    883\u001b[0m     handles\u001b[38;5;241m.\u001b[39mappend(handle)\n\u001b[1;32m    885\u001b[0m \u001b[38;5;66;03m# Convert BytesIO or file objects passed with an encoding\u001b[39;00m\n",
      "\u001b[0;31mFileNotFoundError\u001b[0m: [Errno 2] No such file or directory: 'data/2021 Census GCP State Electroral Division for NSW/Metadata/2021_GCP_Sequential_Template_R2.xlsx'"
     ]
    }
   ],
   "source": [
    "df = pd.read_excel(\"data/2021 Census GCP State Electroral Division for NSW/Metadata/2021_GCP_Sequential_Template_R2.xlsx\")"
   ]
  },
  {
   "cell_type": "code",
   "execution_count": null,
   "id": "c2d435e6-5197-4638-9ac6-299c726070f1",
   "metadata": {},
   "outputs": [],
   "source": []
  },
  {
   "cell_type": "code",
   "execution_count": null,
   "id": "e3e476f2-c987-4597-8a61-e98ff397a456",
   "metadata": {},
   "outputs": [],
   "source": []
  }
 ],
 "metadata": {
  "kernelspec": {
   "display_name": "Python 3 (ipykernel)",
   "language": "python",
   "name": "python3"
  },
  "language_info": {
   "codemirror_mode": {
    "name": "ipython",
    "version": 3
   },
   "file_extension": ".py",
   "mimetype": "text/x-python",
   "name": "python",
   "nbconvert_exporter": "python",
   "pygments_lexer": "ipython3",
   "version": "3.11.4"
  }
 },
 "nbformat": 4,
 "nbformat_minor": 5
}
