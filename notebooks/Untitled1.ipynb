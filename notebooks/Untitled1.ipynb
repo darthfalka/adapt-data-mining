{
 "cells": [
  {
   "cell_type": "markdown",
   "id": "31f57cb3-65f0-425a-809b-64cb82faef24",
   "metadata": {},
   "source": [
    "Need agent to:\n",
    "1. Have discretion over what nodes to include in answer. It should be a broader than a query. Query is requesting specific data that I know exists. Search is more exploratory, where I don't know what I will find. \n",
    "2. Consider imperfect inputs to convert into high quality queries\n",
    "\n",
    "\n"
   ]
  },
  {
   "cell_type": "code",
   "execution_count": null,
   "id": "3d20e56b-8ec0-4198-869f-04251b62a87c",
   "metadata": {},
   "outputs": [],
   "source": []
  }
 ],
 "metadata": {
  "kernelspec": {
   "display_name": "Python 3 (ipykernel)",
   "language": "python",
   "name": "python3"
  },
  "language_info": {
   "codemirror_mode": {
    "name": "ipython",
    "version": 3
   },
   "file_extension": ".py",
   "mimetype": "text/x-python",
   "name": "python",
   "nbconvert_exporter": "python",
   "pygments_lexer": "ipython3",
   "version": "3.11.4"
  }
 },
 "nbformat": 4,
 "nbformat_minor": 5
}
