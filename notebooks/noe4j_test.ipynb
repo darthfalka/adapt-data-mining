{
 "cells": [
  {
   "cell_type": "code",
   "execution_count": 1,
   "id": "af309cf8-17b7-43a2-8a21-052b9d4be835",
   "metadata": {
    "tags": []
   },
   "outputs": [
    {
     "name": "stderr",
     "output_type": "stream",
     "text": [
      "/opt/homebrew/anaconda3/lib/python3.11/site-packages/pandas/core/arrays/masked.py:60: UserWarning: Pandas requires version '1.3.6' or newer of 'bottleneck' (version '1.3.5' currently installed).\n",
      "  from pandas.core import (\n"
     ]
    }
   ],
   "source": [
    "import pandas as pd\n",
    "import numpy as np\n",
    "import json\n",
    "from typing import List, Optional\n",
    "\n",
    "from neo4j import GraphDatabase"
   ]
  },
  {
   "cell_type": "code",
   "execution_count": 12,
   "id": "798e2132-a065-49e6-aab9-45d9b62a531e",
   "metadata": {
    "tags": []
   },
   "outputs": [],
   "source": [
    "class Table:\n",
    "    def __init__(self, code: str, name: str, paths: List[str], level1_name: str, level1: List[str], aggregates: List[str]):\n",
    "        self.code = code\n",
    "        self.name = name\n",
    "        self.paths = paths\n",
    "        self.level1_name = level1_name\n",
    "        self.level1 = level1\n",
    "        self.aggregates = aggregates\n",
    "        self.df = pd.read_csv(paths[0])\n",
    "        if len(paths) > 1:\n",
    "            for p in paths[1:]:\n",
    "                self.df = pd.merge(self.df, pd.read_csv(p), on='SED_CODE_2021')\n",
    "    \n",
    "    def summary_stats(self) -> pd.DataFrame:\n",
    "        # Calculate percentage of each category relative to the aggregate column\n",
    "        for col in self.level1:\n",
    "            self.df[f\"{col}_by_{self.aggregates[0]}\"] = self.df[col] / self.df[self.aggregates[0]] * 100\n",
    "        return self.df\n",
    "\n",
    "    def correlation(self, table: 'Table') -> float:\n",
    "        # Merge and calculate correlation matrix of combined data\n",
    "        merged_df = pd.merge(self.summary_stats(), table.summary_stats(), on='SED_CODE_2021')[self.level1 + table.level1]\n",
    "        corr = merged_df.corr()\n",
    "        off_diagonal = corr.values[~np.eye(corr.shape[0], dtype=bool)]\n",
    "        table_corr = np.mean(np.abs(off_diagonal))\n",
    "        return table_corr\n",
    "    \n",
    "    def melt(self) -> pd.DataFrame:\n",
    "        # Melt the DataFrame to convert from wide to long format\n",
    "        value_vars = self.level1\n",
    "        melted_df = pd.melt(self.df, id_vars=['SED_CODE_2021'], value_vars=value_vars, var_name='l1_category', value_name='population')\n",
    "        \n",
    "        return melted_df\n",
    "    \n",
    "    def to_json(self) -> str:\n",
    "        melted_df = self.melt().to_json(orient='records', indent=4)\n",
    "        \n",
    "        final_json = {\n",
    "            \"code\": self.code,\n",
    "            \"name\": self.name,\n",
    "            \"level1_name\": self.level1_name,\n",
    "            \"level1\": self.level1,\n",
    "            \"data_level1\": melted_df\n",
    "        }\n",
    "        \n",
    "        return json.dumps(final_json, indent=4)\n",
    "    \n",
    "    def __str__(self) -> str:\n",
    "        s = f\"Table {self.code}: {self.name}\"\n",
    "        return s\n"
   ]
  },
  {
   "cell_type": "code",
   "execution_count": 13,
   "id": "c2ccdca7-e05e-4d7d-b7a8-678232d79772",
   "metadata": {
    "tags": []
   },
   "outputs": [],
   "source": [
    "import pickle\n",
    "all_tables = pickle.load(open('../data/table_objects.p', 'rb'))"
   ]
  },
  {
   "cell_type": "code",
   "execution_count": 25,
   "id": "787307fd-296b-448c-940e-9f0b38263526",
   "metadata": {
    "tags": []
   },
   "outputs": [
    {
     "name": "stdout",
     "output_type": "stream",
     "text": [
      "g04: Age (45+ yr old)\n",
      "g17: Weekly personal income\n",
      "g18: Need for assistance\n",
      "g19: Long-term health condition\n",
      "g33: Weekly household income\n",
      "g54: Industry of employment\n"
     ]
    }
   ],
   "source": [
    "# add 60, 21, 37\n",
    "for t in all_tables:\n",
    "    print(f\"{t.code}: {t.level1_name}\")"
   ]
  },
  {
   "cell_type": "code",
   "execution_count": 15,
   "id": "7644dc07-4a0b-4b24-8e01-742471d6ac28",
   "metadata": {
    "tags": []
   },
   "outputs": [],
   "source": [
    "# Connection credentials\n",
    "uri = \"neo4j://localhost:7687\"\n",
    "user = \"neo4j\"\n",
    "password = \"AdaptTest\"\n",
    "\n",
    "driver = GraphDatabase.driver(uri, auth=(user, password))"
   ]
  },
  {
   "cell_type": "code",
   "execution_count": 21,
   "id": "3d2b365d-0166-4c99-ba18-74be607a8d4e",
   "metadata": {
    "tags": []
   },
   "outputs": [],
   "source": [
    "def insert_data(session, table_json):\n",
    "    table = json.loads(table_json)\n",
    "    query = \"\"\"\n",
    "    MERGE (n:Table {code: $code, name: $name, level1_name: $level1_name, level1: $level1, data_level1: $data_level1})\n",
    "    \"\"\"\n",
    "    session.run(query, \n",
    "                code=table['code'],\n",
    "                name=table['name'],\n",
    "                level1_name=table['level1_name'],\n",
    "                level1=table['level1'],\n",
    "                data_level1=table['data_level1'])"
   ]
  },
  {
   "cell_type": "code",
   "execution_count": 22,
   "id": "57d76e43-865a-440f-96b6-09f9e1e992f2",
   "metadata": {
    "tags": []
   },
   "outputs": [
    {
     "name": "stderr",
     "output_type": "stream",
     "text": [
      "/var/folders/h4/40rl009s0kb57zjm1tj9msth0000gn/T/ipykernel_2731/2803879993.py:1: DeprecationWarning: Using a driver after it has been closed is deprecated. Future versions of the driver will raise an error.\n",
      "  with driver.session() as session:\n"
     ]
    }
   ],
   "source": [
    "with driver.session() as session:\n",
    "    for t in all_tables:\n",
    "        table_json = t.to_json()\n",
    "        insert_data(session, table_json)\n",
    "\n",
    "driver.close()"
   ]
  },
  {
   "cell_type": "code",
   "execution_count": 23,
   "id": "d4bfcae9-3a2f-4023-8724-0b851a4940b1",
   "metadata": {
    "tags": []
   },
   "outputs": [],
   "source": [
    "def insert_edge(session, code1, code2, correlation):\n",
    "    query = \"\"\"\n",
    "    MATCH (t1:Table {code: $code1}), (t2:Table {code: $code2})\n",
    "    MERGE (t1)-[r:CORRELATED_TO {correlation: $correlation}]->(t2)\n",
    "    \"\"\"\n",
    "    session.run(query, code1=code1, code2=code2, correlation=correlation)"
   ]
  },
  {
   "cell_type": "code",
   "execution_count": 24,
   "id": "409393e0-30cb-4148-bee4-c79297f5ec07",
   "metadata": {
    "tags": []
   },
   "outputs": [
    {
     "name": "stderr",
     "output_type": "stream",
     "text": [
      "/var/folders/h4/40rl009s0kb57zjm1tj9msth0000gn/T/ipykernel_2731/922240980.py:1: DeprecationWarning: Using a driver after it has been closed is deprecated. Future versions of the driver will raise an error.\n",
      "  with driver.session() as session:\n"
     ]
    }
   ],
   "source": [
    "with driver.session() as session:\n",
    "    for t1 in all_tables:\n",
    "        for t2 in all_tables:\n",
    "            if t1.code != t2.code:\n",
    "                corr = t1.correlation(t2)\n",
    "                insert_edge(session, code1=t1.code, code2=t2.code, correlation=corr)\n",
    "\n",
    "driver.close()"
   ]
  },
  {
   "cell_type": "code",
   "execution_count": null,
   "id": "11a392f9-a7ec-4329-9b19-76696a01e362",
   "metadata": {},
   "outputs": [],
   "source": []
  },
  {
   "cell_type": "code",
   "execution_count": null,
   "id": "0df2d1d5-3a15-46cf-845b-a6d43ac07843",
   "metadata": {},
   "outputs": [],
   "source": []
  }
 ],
 "metadata": {
  "kernelspec": {
   "display_name": "Python 3 (ipykernel)",
   "language": "python",
   "name": "python3"
  },
  "language_info": {
   "codemirror_mode": {
    "name": "ipython",
    "version": 3
   },
   "file_extension": ".py",
   "mimetype": "text/x-python",
   "name": "python",
   "nbconvert_exporter": "python",
   "pygments_lexer": "ipython3",
   "version": "3.11.4"
  }
 },
 "nbformat": 4,
 "nbformat_minor": 5
}
